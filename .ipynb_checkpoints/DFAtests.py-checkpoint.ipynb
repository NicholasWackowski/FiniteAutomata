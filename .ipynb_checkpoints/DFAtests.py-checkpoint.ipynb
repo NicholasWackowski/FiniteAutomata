{
 "cells": [
  {
   "cell_type": "code",
   "execution_count": null,
   "metadata": {},
   "outputs": [],
   "source": [
    "\n",
    "# A sample DFA diagram, where receiving \"a\" causes a transition\n",
    "# between Q1 <--> Q2 and \"b\" causes the node to remain the same.\n",
    "def test1():\n",
    "    Q1 = node(\"Q1\", True, [transitionEquation('a', 'Q2'), transitionEquation('b', 'Q1')])\n",
    "    Q2 = node(\"Q2\", False, [transitionEquation('a', 'Q1'), transitionEquation('b', 'Q2')])\n",
    "    testNodeList = [Q1, Q2]\n",
    "    # DFA: def __init__(self, name, nodesList):\n",
    "    testDFA = DFA(name='testDFA', nodesList=testNodeList)\n",
    "    alphabet = 'abbaba'\n",
    "    print(alphabet)\n",
    "    print(testDFA.transition(alphabet=alphabet, currentNode=Q1))\n",
    "\n",
    "# A VERY simple diagram where all a's lead to Q1, all b's lead to Q2, and all c's lead to Q3.\n",
    "# Q3 is the only node which succeeds.\n",
    "def test2():\n",
    "    Q1 = node(\"Q1\", False, [transitionEquation('a', 'Q1'), transitionEquation('b', 'Q2'), transitionEquation('c', 'Q3')])\n",
    "    Q2 = node(\"Q2\", False, [transitionEquation('a', 'Q1'), transitionEquation('b', 'Q2'), transitionEquation('c', 'Q3')])\n",
    "    Q3 = node(\"Q3\", True,  [transitionEquation('a', 'Q1'), transitionEquation('b', 'Q2'), transitionEquation('c', 'Q3')])\n",
    "    testNodeList = [Q1, Q2, Q3]\n",
    "    # DFA: def __init__(self, name, nodesList):\n",
    "    testDFA = DFA(name='testDFA', nodesList=testNodeList)\n",
    "    alphabet = 'accbca'\n",
    "    print(alphabet)\n",
    "    print(testDFA.transition(alphabet=alphabet, currentNode=Q1))\n",
    "    \n",
    "\n",
    "def test3():\n",
    "    Q1 = node(\"Q1\", False, [transitionEquation('a', 'Q1'), transitionEquation('b', 'Q1'), transitionEquation('c', 'Q2'), transitionEquation('d', 'Q3')])\n",
    "    Q2 = node(\"Q2\", True,  [transitionEquation('a', 'Q3'), transitionEquation('b', 'Q2'), transitionEquation('c', 'Q1'), transitionEquation('d', 'Q3')])\n",
    "    Q3 = node(\"Q3\", False, [transitionEquation('a', 'Q4'), transitionEquation('b', 'Q4'), transitionEquation('c', 'Q3'), transitionEquation('d', 'Q4')])\n",
    "    Q4 = node(\"Q4\", True,  [transitionEquation('a', 'Q1'), transitionEquation('b', 'Q4'), transitionEquation('c', 'Q1'), transitionEquation('d', 'Q4')])\n",
    "    testNodeList = [Q1, Q2, Q3, Q4]\n",
    "    # DFA: def __init__(self, name, nodesList):\n",
    "    testDFA = DFA(name='testDFA', nodesList=testNodeList)\n",
    "    alphabet = 'abcdcb'\n",
    "    print(alphabet)\n",
    "    print(testDFA.transition(alphabet=alphabet, currentNode=Q1))\n",
    "   "
   ]
  }
 ],
 "metadata": {
  "kernelspec": {
   "display_name": "Python 3",
   "language": "python",
   "name": "python3"
  },
  "language_info": {
   "codemirror_mode": {
    "name": "ipython",
    "version": 3
   },
   "file_extension": ".py",
   "mimetype": "text/x-python",
   "name": "python",
   "nbconvert_exporter": "python",
   "pygments_lexer": "ipython3",
   "version": "3.7.4"
  }
 },
 "nbformat": 4,
 "nbformat_minor": 2
}
